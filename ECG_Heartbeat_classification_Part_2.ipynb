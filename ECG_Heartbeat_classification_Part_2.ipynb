{
  "nbformat": 4,
  "nbformat_minor": 0,
  "metadata": {
    "colab": {
      "provenance": [],
      "mount_file_id": "1cluhQs7PUcTXW0rXKjg6_ZQvhf-5HQPW",
      "authorship_tag": "ABX9TyPW4+92gwfyiv8xN0ZhtozJ",
      "include_colab_link": true
    },
    "kernelspec": {
      "name": "python3",
      "display_name": "Python 3"
    },
    "accelerator": "GPU"
  },
  "cells": [
    {
      "cell_type": "markdown",
      "metadata": {
        "id": "view-in-github",
        "colab_type": "text"
      },
      "source": [
        "<a href=\"https://colab.research.google.com/github/sachin5nowal/ECG-Heartbeat-classification/blob/main/ECG_Heartbeat_classification_Part_2.ipynb\" target=\"_parent\"><img src=\"https://colab.research.google.com/assets/colab-badge.svg\" alt=\"Open In Colab\"/></a>"
      ]
    },
    {
      "cell_type": "code",
      "metadata": {
        "id": "_2cCXahOrL5G",
        "outputId": "76f38f63-e906-4f04-bc74-0f47c347c5bd",
        "colab": {
          "base_uri": "https://localhost:8080/",
          "height": 34
        }
      },
      "source": [
        "#@Introduction\n",
        "\"\"\"\n",
        "Title: Heart beat classification/Anomaly detection part-2 (Autoencoders)\n",
        "Date: May 10,2020.\n",
        "Version:1.0\n",
        "Submitted by: Sachin Nowal\n",
        "\"\"\""
      ],
      "execution_count": null,
      "outputs": [
        {
          "output_type": "execute_result",
          "data": {
            "text/plain": [
              "'\\nTitle: Heart beat classification/Anomaly detection part-2 (Autoencoders)\\nDate: May 10,2020.\\nVersion:1.0\\nSubmitted by: Sachin Nowal\\n'"
            ]
          },
          "metadata": {
            "tags": []
          },
          "execution_count": 90
        }
      ]
    },
    {
      "cell_type": "code",
      "metadata": {
        "id": "dgl8zPIjH40y",
        "outputId": "56035c43-4599-4ceb-de1a-f97e6f9234a9",
        "colab": {
          "base_uri": "https://localhost:8080/",
          "height": 301
        }
      },
      "source": [
        "#Checking whether GPU is attached and running with the notebook\n",
        "!nvidia-smi"
      ],
      "execution_count": null,
      "outputs": [
        {
          "output_type": "stream",
          "text": [
            "Wed May 20 01:40:20 2020       \n",
            "+-----------------------------------------------------------------------------+\n",
            "| NVIDIA-SMI 440.82       Driver Version: 418.67       CUDA Version: 10.1     |\n",
            "|-------------------------------+----------------------+----------------------+\n",
            "| GPU  Name        Persistence-M| Bus-Id        Disp.A | Volatile Uncorr. ECC |\n",
            "| Fan  Temp  Perf  Pwr:Usage/Cap|         Memory-Usage | GPU-Util  Compute M. |\n",
            "|===============================+======================+======================|\n",
            "|   0  Tesla P100-PCIE...  Off  | 00000000:00:04.0 Off |                    0 |\n",
            "| N/A   35C    P0    32W / 250W |    565MiB / 16280MiB |      0%      Default |\n",
            "+-------------------------------+----------------------+----------------------+\n",
            "                                                                               \n",
            "+-----------------------------------------------------------------------------+\n",
            "| Processes:                                                       GPU Memory |\n",
            "|  GPU       PID   Type   Process name                             Usage      |\n",
            "|=============================================================================|\n",
            "+-----------------------------------------------------------------------------+\n"
          ],
          "name": "stdout"
        }
      ]
    },
    {
      "cell_type": "markdown",
      "metadata": {
        "id": "ewtLpPQllTKg"
      },
      "source": [
        "# Introduction\n",
        "Here in this section we are going to use Autoencoder architecture (with LSTM/GRU) for encoding and decoding the sequential data.  The sequential data is beig fed into the LSTM layers and a dense representation of the ECG wave is being captured , this dense representation is used to construct the wave again and a reconstruction loss is being captured on the basis of which wave is being classified as normal/abnormal."
      ]
    },
    {
      "cell_type": "markdown",
      "metadata": {
        "id": "7hXW3KWSpDzs"
      },
      "source": [
        "# Installing and loading libraries"
      ]
    },
    {
      "cell_type": "code",
      "metadata": {
        "id": "KODaQJ0YLMon",
        "outputId": "d0cc2be7-b88d-49a7-ebd4-bba343226187",
        "colab": {
          "base_uri": "https://localhost:8080/",
          "height": 34
        }
      },
      "source": [
        "print(\"Installing libraries...\")\n",
        "!pip install -qq arff2pandas\n",
        "!pip install -q -U watermark"
      ],
      "execution_count": null,
      "outputs": [
        {
          "output_type": "stream",
          "text": [
            "Installing libraries...\n"
          ],
          "name": "stdout"
        }
      ]
    },
    {
      "cell_type": "code",
      "metadata": {
        "id": "dBLGxQ9cLs2H",
        "outputId": "73854c9e-3ee4-4899-ed5e-a5e8d9257d1a",
        "colab": {
          "base_uri": "https://localhost:8080/",
          "height": 34
        }
      },
      "source": [
        "print(\"Loading libraries...\")\n",
        "from tensorflow.keras.layers import LSTM,GRU,Dropout,RepeatVector,TimeDistributed,Dense\n",
        "from tensorflow.keras import Sequential\n",
        "from tensorflow.keras.utils import plot_model\n",
        "# from imblearn.over_sampling import RandomOverSampler\n",
        "from sklearn.metrics import accuracy_score\n",
        "import pandas as pd\n",
        "import numpy as np\n",
        "import seaborn as sns\n",
        "from sklearn.model_selection import train_test_split\n",
        "import matplotlib.pyplot as plt\n",
        "import tensorflow as tf\n",
        "from arff2pandas import a2p\n",
        "%matplotlib inline\n",
        "RANDOM_SEED=42\n",
        "np.random.seed(RANDOM_SEED)"
      ],
      "execution_count": null,
      "outputs": [
        {
          "output_type": "stream",
          "text": [
            "Loading libraries...\n"
          ],
          "name": "stdout"
        }
      ]
    },
    {
      "cell_type": "markdown",
      "metadata": {
        "id": "SkKQXqhup5ba"
      },
      "source": [
        "# Loading Data"
      ]
    },
    {
      "cell_type": "code",
      "metadata": {
        "id": "l47hiMMEMtO6",
        "outputId": "6495c7c2-b253-44c7-824d-b1ffc61a08ce",
        "colab": {
          "base_uri": "https://localhost:8080/",
          "height": 34
        }
      },
      "source": [
        "#Loading data\n",
        "data_folder_path=\"/content/drive/My Drive/drive_datasets/ecg_anomaly/ECG5000\"\n",
        "with open(data_folder_path+'/ECG5000_TRAIN.arff') as f:\n",
        "  train = a2p.load(f)\n",
        "\n",
        "with open(data_folder_path+'/ECG5000_TEST.arff') as f:\n",
        "  test = a2p.load(f)\n",
        "\n",
        "#Inspecting_data joining original test and train data\n",
        "df = train.append(test)\n",
        "df = df.sample(frac=1.0)\n",
        "df.shape"
      ],
      "execution_count": null,
      "outputs": [
        {
          "output_type": "execute_result",
          "data": {
            "text/plain": [
              "(5000, 141)"
            ]
          },
          "metadata": {
            "tags": []
          },
          "execution_count": 94
        }
      ]
    },
    {
      "cell_type": "code",
      "metadata": {
        "id": "dJjVTVuIOTIV",
        "outputId": "08269fd2-6b48-439d-d126-5ce0b9ace8f7",
        "colab": {
          "base_uri": "https://localhost:8080/",
          "height": 246
        }
      },
      "source": [
        "df.head()"
      ],
      "execution_count": null,
      "outputs": [
        {
          "output_type": "execute_result",
          "data": {
            "text/html": [
              "<div>\n",
              "<style scoped>\n",
              "    .dataframe tbody tr th:only-of-type {\n",
              "        vertical-align: middle;\n",
              "    }\n",
              "\n",
              "    .dataframe tbody tr th {\n",
              "        vertical-align: top;\n",
              "    }\n",
              "\n",
              "    .dataframe thead th {\n",
              "        text-align: right;\n",
              "    }\n",
              "</style>\n",
              "<table border=\"1\" class=\"dataframe\">\n",
              "  <thead>\n",
              "    <tr style=\"text-align: right;\">\n",
              "      <th></th>\n",
              "      <th>att1@NUMERIC</th>\n",
              "      <th>att2@NUMERIC</th>\n",
              "      <th>att3@NUMERIC</th>\n",
              "      <th>att4@NUMERIC</th>\n",
              "      <th>att5@NUMERIC</th>\n",
              "      <th>att6@NUMERIC</th>\n",
              "      <th>att7@NUMERIC</th>\n",
              "      <th>att8@NUMERIC</th>\n",
              "      <th>att9@NUMERIC</th>\n",
              "      <th>att10@NUMERIC</th>\n",
              "      <th>att11@NUMERIC</th>\n",
              "      <th>att12@NUMERIC</th>\n",
              "      <th>att13@NUMERIC</th>\n",
              "      <th>att14@NUMERIC</th>\n",
              "      <th>att15@NUMERIC</th>\n",
              "      <th>att16@NUMERIC</th>\n",
              "      <th>att17@NUMERIC</th>\n",
              "      <th>att18@NUMERIC</th>\n",
              "      <th>att19@NUMERIC</th>\n",
              "      <th>att20@NUMERIC</th>\n",
              "      <th>att21@NUMERIC</th>\n",
              "      <th>att22@NUMERIC</th>\n",
              "      <th>att23@NUMERIC</th>\n",
              "      <th>att24@NUMERIC</th>\n",
              "      <th>att25@NUMERIC</th>\n",
              "      <th>att26@NUMERIC</th>\n",
              "      <th>att27@NUMERIC</th>\n",
              "      <th>att28@NUMERIC</th>\n",
              "      <th>att29@NUMERIC</th>\n",
              "      <th>att30@NUMERIC</th>\n",
              "      <th>att31@NUMERIC</th>\n",
              "      <th>att32@NUMERIC</th>\n",
              "      <th>att33@NUMERIC</th>\n",
              "      <th>att34@NUMERIC</th>\n",
              "      <th>att35@NUMERIC</th>\n",
              "      <th>att36@NUMERIC</th>\n",
              "      <th>att37@NUMERIC</th>\n",
              "      <th>att38@NUMERIC</th>\n",
              "      <th>att39@NUMERIC</th>\n",
              "      <th>att40@NUMERIC</th>\n",
              "      <th>...</th>\n",
              "      <th>att102@NUMERIC</th>\n",
              "      <th>att103@NUMERIC</th>\n",
              "      <th>att104@NUMERIC</th>\n",
              "      <th>att105@NUMERIC</th>\n",
              "      <th>att106@NUMERIC</th>\n",
              "      <th>att107@NUMERIC</th>\n",
              "      <th>att108@NUMERIC</th>\n",
              "      <th>att109@NUMERIC</th>\n",
              "      <th>att110@NUMERIC</th>\n",
              "      <th>att111@NUMERIC</th>\n",
              "      <th>att112@NUMERIC</th>\n",
              "      <th>att113@NUMERIC</th>\n",
              "      <th>att114@NUMERIC</th>\n",
              "      <th>att115@NUMERIC</th>\n",
              "      <th>att116@NUMERIC</th>\n",
              "      <th>att117@NUMERIC</th>\n",
              "      <th>att118@NUMERIC</th>\n",
              "      <th>att119@NUMERIC</th>\n",
              "      <th>att120@NUMERIC</th>\n",
              "      <th>att121@NUMERIC</th>\n",
              "      <th>att122@NUMERIC</th>\n",
              "      <th>att123@NUMERIC</th>\n",
              "      <th>att124@NUMERIC</th>\n",
              "      <th>att125@NUMERIC</th>\n",
              "      <th>att126@NUMERIC</th>\n",
              "      <th>att127@NUMERIC</th>\n",
              "      <th>att128@NUMERIC</th>\n",
              "      <th>att129@NUMERIC</th>\n",
              "      <th>att130@NUMERIC</th>\n",
              "      <th>att131@NUMERIC</th>\n",
              "      <th>att132@NUMERIC</th>\n",
              "      <th>att133@NUMERIC</th>\n",
              "      <th>att134@NUMERIC</th>\n",
              "      <th>att135@NUMERIC</th>\n",
              "      <th>att136@NUMERIC</th>\n",
              "      <th>att137@NUMERIC</th>\n",
              "      <th>att138@NUMERIC</th>\n",
              "      <th>att139@NUMERIC</th>\n",
              "      <th>att140@NUMERIC</th>\n",
              "      <th>target@{1,2,3,4,5}</th>\n",
              "    </tr>\n",
              "  </thead>\n",
              "  <tbody>\n",
              "    <tr>\n",
              "      <th>1001</th>\n",
              "      <td>1.469756</td>\n",
              "      <td>-1.048520</td>\n",
              "      <td>-3.394356</td>\n",
              "      <td>-4.254399</td>\n",
              "      <td>-4.162834</td>\n",
              "      <td>-3.822570</td>\n",
              "      <td>-3.003609</td>\n",
              "      <td>-1.799773</td>\n",
              "      <td>-1.500033</td>\n",
              "      <td>-1.025095</td>\n",
              "      <td>-0.166753</td>\n",
              "      <td>0.011275</td>\n",
              "      <td>-0.147008</td>\n",
              "      <td>-0.088714</td>\n",
              "      <td>-0.114587</td>\n",
              "      <td>-0.146307</td>\n",
              "      <td>-0.157915</td>\n",
              "      <td>-0.027796</td>\n",
              "      <td>-0.214186</td>\n",
              "      <td>-0.141600</td>\n",
              "      <td>-0.210829</td>\n",
              "      <td>-0.203778</td>\n",
              "      <td>-0.153019</td>\n",
              "      <td>-0.266533</td>\n",
              "      <td>-0.390077</td>\n",
              "      <td>-0.327032</td>\n",
              "      <td>-0.400833</td>\n",
              "      <td>-0.407830</td>\n",
              "      <td>-0.501358</td>\n",
              "      <td>-0.522868</td>\n",
              "      <td>-0.574155</td>\n",
              "      <td>-0.659348</td>\n",
              "      <td>-0.663703</td>\n",
              "      <td>-0.724858</td>\n",
              "      <td>-0.682038</td>\n",
              "      <td>-0.770026</td>\n",
              "      <td>-0.798246</td>\n",
              "      <td>-0.747866</td>\n",
              "      <td>-0.758533</td>\n",
              "      <td>-0.591910</td>\n",
              "      <td>...</td>\n",
              "      <td>1.487003</td>\n",
              "      <td>1.675518</td>\n",
              "      <td>1.836158</td>\n",
              "      <td>1.767251</td>\n",
              "      <td>1.735520</td>\n",
              "      <td>1.630994</td>\n",
              "      <td>1.380285</td>\n",
              "      <td>1.062822</td>\n",
              "      <td>0.829051</td>\n",
              "      <td>0.559157</td>\n",
              "      <td>0.189454</td>\n",
              "      <td>-0.083072</td>\n",
              "      <td>-0.387828</td>\n",
              "      <td>-0.484409</td>\n",
              "      <td>-0.490306</td>\n",
              "      <td>-0.518586</td>\n",
              "      <td>-0.419299</td>\n",
              "      <td>-0.440095</td>\n",
              "      <td>-0.357985</td>\n",
              "      <td>-0.486044</td>\n",
              "      <td>-0.486691</td>\n",
              "      <td>-0.376997</td>\n",
              "      <td>-0.444405</td>\n",
              "      <td>-0.295011</td>\n",
              "      <td>-0.381458</td>\n",
              "      <td>-0.357774</td>\n",
              "      <td>-0.308135</td>\n",
              "      <td>-0.068073</td>\n",
              "      <td>0.510416</td>\n",
              "      <td>0.873347</td>\n",
              "      <td>0.945178</td>\n",
              "      <td>1.275588</td>\n",
              "      <td>1.617218</td>\n",
              "      <td>1.580279</td>\n",
              "      <td>1.306195</td>\n",
              "      <td>1.351674</td>\n",
              "      <td>1.915517</td>\n",
              "      <td>1.672103</td>\n",
              "      <td>-1.039932</td>\n",
              "      <td>1</td>\n",
              "    </tr>\n",
              "    <tr>\n",
              "      <th>2086</th>\n",
              "      <td>-1.998602</td>\n",
              "      <td>-3.770552</td>\n",
              "      <td>-4.267091</td>\n",
              "      <td>-4.256133</td>\n",
              "      <td>-3.515288</td>\n",
              "      <td>-2.554540</td>\n",
              "      <td>-1.699639</td>\n",
              "      <td>-1.566366</td>\n",
              "      <td>-1.038815</td>\n",
              "      <td>-0.425483</td>\n",
              "      <td>-0.262474</td>\n",
              "      <td>-0.197361</td>\n",
              "      <td>-0.340497</td>\n",
              "      <td>-0.323774</td>\n",
              "      <td>-0.335513</td>\n",
              "      <td>-0.254583</td>\n",
              "      <td>-0.264334</td>\n",
              "      <td>-0.338740</td>\n",
              "      <td>-0.284649</td>\n",
              "      <td>-0.368613</td>\n",
              "      <td>-0.394213</td>\n",
              "      <td>-0.439726</td>\n",
              "      <td>-0.368993</td>\n",
              "      <td>-0.376742</td>\n",
              "      <td>-0.423022</td>\n",
              "      <td>-0.529464</td>\n",
              "      <td>-0.589248</td>\n",
              "      <td>-0.544008</td>\n",
              "      <td>-0.518129</td>\n",
              "      <td>-0.678544</td>\n",
              "      <td>-0.717577</td>\n",
              "      <td>-0.740041</td>\n",
              "      <td>-0.769233</td>\n",
              "      <td>-0.785213</td>\n",
              "      <td>-0.821685</td>\n",
              "      <td>-0.769256</td>\n",
              "      <td>-0.772686</td>\n",
              "      <td>-0.781586</td>\n",
              "      <td>-0.818404</td>\n",
              "      <td>-0.769080</td>\n",
              "      <td>...</td>\n",
              "      <td>1.780951</td>\n",
              "      <td>1.779466</td>\n",
              "      <td>1.754980</td>\n",
              "      <td>1.696125</td>\n",
              "      <td>1.596021</td>\n",
              "      <td>1.385371</td>\n",
              "      <td>1.189426</td>\n",
              "      <td>0.954776</td>\n",
              "      <td>0.739367</td>\n",
              "      <td>0.423573</td>\n",
              "      <td>0.085743</td>\n",
              "      <td>-0.030826</td>\n",
              "      <td>-0.042948</td>\n",
              "      <td>-0.122153</td>\n",
              "      <td>-0.101229</td>\n",
              "      <td>-0.135996</td>\n",
              "      <td>-0.093358</td>\n",
              "      <td>-0.113487</td>\n",
              "      <td>-0.118484</td>\n",
              "      <td>-0.088536</td>\n",
              "      <td>-0.020003</td>\n",
              "      <td>-0.029816</td>\n",
              "      <td>-0.044748</td>\n",
              "      <td>0.034468</td>\n",
              "      <td>0.070666</td>\n",
              "      <td>0.057764</td>\n",
              "      <td>0.120260</td>\n",
              "      <td>0.417549</td>\n",
              "      <td>0.799119</td>\n",
              "      <td>1.028602</td>\n",
              "      <td>1.008577</td>\n",
              "      <td>1.024698</td>\n",
              "      <td>1.051141</td>\n",
              "      <td>1.015352</td>\n",
              "      <td>0.988475</td>\n",
              "      <td>1.050191</td>\n",
              "      <td>1.089509</td>\n",
              "      <td>1.465382</td>\n",
              "      <td>0.799517</td>\n",
              "      <td>1</td>\n",
              "    </tr>\n",
              "    <tr>\n",
              "      <th>2153</th>\n",
              "      <td>-1.187772</td>\n",
              "      <td>-3.365038</td>\n",
              "      <td>-3.695653</td>\n",
              "      <td>-4.094781</td>\n",
              "      <td>-3.992549</td>\n",
              "      <td>-3.425381</td>\n",
              "      <td>-2.057643</td>\n",
              "      <td>-1.277729</td>\n",
              "      <td>-1.307397</td>\n",
              "      <td>-0.623098</td>\n",
              "      <td>-0.320708</td>\n",
              "      <td>-0.359462</td>\n",
              "      <td>-0.377039</td>\n",
              "      <td>-0.397033</td>\n",
              "      <td>-0.381755</td>\n",
              "      <td>-0.427911</td>\n",
              "      <td>-0.414237</td>\n",
              "      <td>-0.448439</td>\n",
              "      <td>-0.437101</td>\n",
              "      <td>-0.362470</td>\n",
              "      <td>-0.357754</td>\n",
              "      <td>-0.360832</td>\n",
              "      <td>-0.456013</td>\n",
              "      <td>-0.426373</td>\n",
              "      <td>-0.477425</td>\n",
              "      <td>-0.551853</td>\n",
              "      <td>-0.491515</td>\n",
              "      <td>-0.540644</td>\n",
              "      <td>-0.626111</td>\n",
              "      <td>-0.672909</td>\n",
              "      <td>-0.609645</td>\n",
              "      <td>-0.674574</td>\n",
              "      <td>-0.738285</td>\n",
              "      <td>-0.711991</td>\n",
              "      <td>-0.707088</td>\n",
              "      <td>-0.719290</td>\n",
              "      <td>-0.665765</td>\n",
              "      <td>-0.681393</td>\n",
              "      <td>-0.551106</td>\n",
              "      <td>-0.678160</td>\n",
              "      <td>...</td>\n",
              "      <td>1.539706</td>\n",
              "      <td>1.861135</td>\n",
              "      <td>1.823973</td>\n",
              "      <td>1.842621</td>\n",
              "      <td>1.807378</td>\n",
              "      <td>1.673375</td>\n",
              "      <td>1.435519</td>\n",
              "      <td>1.256942</td>\n",
              "      <td>1.141169</td>\n",
              "      <td>0.773353</td>\n",
              "      <td>0.352743</td>\n",
              "      <td>-0.006171</td>\n",
              "      <td>-0.082585</td>\n",
              "      <td>-0.174300</td>\n",
              "      <td>-0.050298</td>\n",
              "      <td>-0.190888</td>\n",
              "      <td>-0.151327</td>\n",
              "      <td>-0.106006</td>\n",
              "      <td>-0.101364</td>\n",
              "      <td>-0.116433</td>\n",
              "      <td>-0.127277</td>\n",
              "      <td>0.010743</td>\n",
              "      <td>-0.166507</td>\n",
              "      <td>-0.219952</td>\n",
              "      <td>-0.076155</td>\n",
              "      <td>-0.062330</td>\n",
              "      <td>0.009366</td>\n",
              "      <td>0.151061</td>\n",
              "      <td>0.459543</td>\n",
              "      <td>0.972686</td>\n",
              "      <td>1.085007</td>\n",
              "      <td>1.467196</td>\n",
              "      <td>1.413850</td>\n",
              "      <td>1.283822</td>\n",
              "      <td>0.923126</td>\n",
              "      <td>0.759235</td>\n",
              "      <td>0.932364</td>\n",
              "      <td>1.216265</td>\n",
              "      <td>-0.824489</td>\n",
              "      <td>1</td>\n",
              "    </tr>\n",
              "    <tr>\n",
              "      <th>555</th>\n",
              "      <td>0.604969</td>\n",
              "      <td>-1.671363</td>\n",
              "      <td>-3.236131</td>\n",
              "      <td>-3.966465</td>\n",
              "      <td>-4.067820</td>\n",
              "      <td>-3.551897</td>\n",
              "      <td>-2.582864</td>\n",
              "      <td>-1.804755</td>\n",
              "      <td>-1.688151</td>\n",
              "      <td>-1.025897</td>\n",
              "      <td>-0.434404</td>\n",
              "      <td>-0.391973</td>\n",
              "      <td>-0.488243</td>\n",
              "      <td>-0.431901</td>\n",
              "      <td>-0.389872</td>\n",
              "      <td>-0.552537</td>\n",
              "      <td>-0.522013</td>\n",
              "      <td>-0.412052</td>\n",
              "      <td>-0.435156</td>\n",
              "      <td>-0.485882</td>\n",
              "      <td>-0.495175</td>\n",
              "      <td>-0.472248</td>\n",
              "      <td>-0.491598</td>\n",
              "      <td>-0.542585</td>\n",
              "      <td>-0.495330</td>\n",
              "      <td>-0.514791</td>\n",
              "      <td>-0.556296</td>\n",
              "      <td>-0.654450</td>\n",
              "      <td>-0.652184</td>\n",
              "      <td>-0.705807</td>\n",
              "      <td>-0.764955</td>\n",
              "      <td>-0.806090</td>\n",
              "      <td>-0.826952</td>\n",
              "      <td>-0.834084</td>\n",
              "      <td>-0.824845</td>\n",
              "      <td>-0.894700</td>\n",
              "      <td>-0.855387</td>\n",
              "      <td>-0.843114</td>\n",
              "      <td>-0.803555</td>\n",
              "      <td>-0.649946</td>\n",
              "      <td>...</td>\n",
              "      <td>1.512614</td>\n",
              "      <td>1.786149</td>\n",
              "      <td>1.961367</td>\n",
              "      <td>1.853974</td>\n",
              "      <td>1.825461</td>\n",
              "      <td>1.679417</td>\n",
              "      <td>1.585913</td>\n",
              "      <td>1.286001</td>\n",
              "      <td>0.959101</td>\n",
              "      <td>0.604489</td>\n",
              "      <td>0.249181</td>\n",
              "      <td>-0.116396</td>\n",
              "      <td>-0.230415</td>\n",
              "      <td>-0.126991</td>\n",
              "      <td>-0.234535</td>\n",
              "      <td>-0.239417</td>\n",
              "      <td>-0.302889</td>\n",
              "      <td>-0.274648</td>\n",
              "      <td>-0.246930</td>\n",
              "      <td>-0.268511</td>\n",
              "      <td>-0.229978</td>\n",
              "      <td>-0.315147</td>\n",
              "      <td>-0.246615</td>\n",
              "      <td>-0.240423</td>\n",
              "      <td>-0.301044</td>\n",
              "      <td>-0.210698</td>\n",
              "      <td>-0.253991</td>\n",
              "      <td>-0.040373</td>\n",
              "      <td>0.105965</td>\n",
              "      <td>0.509497</td>\n",
              "      <td>0.545222</td>\n",
              "      <td>0.649363</td>\n",
              "      <td>0.986846</td>\n",
              "      <td>1.234495</td>\n",
              "      <td>1.280039</td>\n",
              "      <td>1.215985</td>\n",
              "      <td>1.617971</td>\n",
              "      <td>2.196543</td>\n",
              "      <td>0.023843</td>\n",
              "      <td>1</td>\n",
              "    </tr>\n",
              "    <tr>\n",
              "      <th>205</th>\n",
              "      <td>-1.197203</td>\n",
              "      <td>-3.270123</td>\n",
              "      <td>-3.778723</td>\n",
              "      <td>-3.977574</td>\n",
              "      <td>-3.405060</td>\n",
              "      <td>-2.392634</td>\n",
              "      <td>-1.726322</td>\n",
              "      <td>-1.572748</td>\n",
              "      <td>-0.920075</td>\n",
              "      <td>-0.388731</td>\n",
              "      <td>-0.329621</td>\n",
              "      <td>-0.432457</td>\n",
              "      <td>-0.412543</td>\n",
              "      <td>-0.394814</td>\n",
              "      <td>-0.437069</td>\n",
              "      <td>-0.363390</td>\n",
              "      <td>-0.399006</td>\n",
              "      <td>-0.403825</td>\n",
              "      <td>-0.376376</td>\n",
              "      <td>-0.506637</td>\n",
              "      <td>-0.436540</td>\n",
              "      <td>-0.465944</td>\n",
              "      <td>-0.429178</td>\n",
              "      <td>-0.519840</td>\n",
              "      <td>-0.568588</td>\n",
              "      <td>-0.537508</td>\n",
              "      <td>-0.679455</td>\n",
              "      <td>-0.720026</td>\n",
              "      <td>-0.745055</td>\n",
              "      <td>-0.681840</td>\n",
              "      <td>-0.811463</td>\n",
              "      <td>-0.896847</td>\n",
              "      <td>-0.866956</td>\n",
              "      <td>-0.955809</td>\n",
              "      <td>-0.950285</td>\n",
              "      <td>-1.025476</td>\n",
              "      <td>-0.973120</td>\n",
              "      <td>-0.979592</td>\n",
              "      <td>-1.022956</td>\n",
              "      <td>-1.054214</td>\n",
              "      <td>...</td>\n",
              "      <td>1.208148</td>\n",
              "      <td>1.359570</td>\n",
              "      <td>1.640742</td>\n",
              "      <td>1.725211</td>\n",
              "      <td>1.740897</td>\n",
              "      <td>1.732714</td>\n",
              "      <td>1.447176</td>\n",
              "      <td>1.348474</td>\n",
              "      <td>1.147636</td>\n",
              "      <td>0.873845</td>\n",
              "      <td>0.702633</td>\n",
              "      <td>0.450193</td>\n",
              "      <td>0.181169</td>\n",
              "      <td>-0.140092</td>\n",
              "      <td>-0.106002</td>\n",
              "      <td>-0.067038</td>\n",
              "      <td>-0.093409</td>\n",
              "      <td>-0.032675</td>\n",
              "      <td>-0.085898</td>\n",
              "      <td>-0.133999</td>\n",
              "      <td>-0.194673</td>\n",
              "      <td>-0.116901</td>\n",
              "      <td>-0.007323</td>\n",
              "      <td>-0.079279</td>\n",
              "      <td>-0.171791</td>\n",
              "      <td>-0.077551</td>\n",
              "      <td>-0.024034</td>\n",
              "      <td>-0.017010</td>\n",
              "      <td>0.068237</td>\n",
              "      <td>0.299639</td>\n",
              "      <td>0.828168</td>\n",
              "      <td>0.914338</td>\n",
              "      <td>1.063077</td>\n",
              "      <td>1.393479</td>\n",
              "      <td>1.469756</td>\n",
              "      <td>1.392281</td>\n",
              "      <td>1.144732</td>\n",
              "      <td>1.668263</td>\n",
              "      <td>1.734676</td>\n",
              "      <td>1</td>\n",
              "    </tr>\n",
              "  </tbody>\n",
              "</table>\n",
              "<p>5 rows × 141 columns</p>\n",
              "</div>"
            ],
            "text/plain": [
              "      att1@NUMERIC  att2@NUMERIC  ...  att140@NUMERIC  target@{1,2,3,4,5}\n",
              "1001      1.469756     -1.048520  ...       -1.039932                   1\n",
              "2086     -1.998602     -3.770552  ...        0.799517                   1\n",
              "2153     -1.187772     -3.365038  ...       -0.824489                   1\n",
              "555       0.604969     -1.671363  ...        0.023843                   1\n",
              "205      -1.197203     -3.270123  ...        1.734676                   1\n",
              "\n",
              "[5 rows x 141 columns]"
            ]
          },
          "metadata": {
            "tags": []
          },
          "execution_count": 95
        }
      ]
    },
    {
      "cell_type": "code",
      "metadata": {
        "id": "1cyWuwRiOVsD"
      },
      "source": [
        "class_dict ={'Normal':1,'R on T':2,'PVC':3,'SP':4,'UB':5}\n",
        "class_names = ['Normal','R on T','PVC','SP','UB']\n",
        "new_columns = list(df.columns)\n",
        "new_columns[-1] = 'target'\n",
        "df.columns = new_columns"
      ],
      "execution_count": null,
      "outputs": []
    },
    {
      "cell_type": "code",
      "metadata": {
        "id": "uylK5qIG7a6q",
        "outputId": "64432634-bbfc-4cb2-9c26-01696094c36f",
        "colab": {
          "base_uri": "https://localhost:8080/",
          "height": 52
        }
      },
      "source": [
        "df_normal=df[df['target']=='1'][:2400]\n",
        "print(df_normal.target.value_counts())"
      ],
      "execution_count": null,
      "outputs": [
        {
          "output_type": "stream",
          "text": [
            "1    2400\n",
            "Name: target, dtype: int64\n"
          ],
          "name": "stdout"
        }
      ]
    },
    {
      "cell_type": "code",
      "metadata": {
        "id": "ckYuqDYst-sH"
      },
      "source": [
        "df_test=df[df['target']!='1']\n",
        "df_test=df_test.append(df[df['target']=='1'][2400:])"
      ],
      "execution_count": null,
      "outputs": []
    },
    {
      "cell_type": "code",
      "metadata": {
        "id": "Faw8wAeyg2FU",
        "outputId": "3488da2a-4c66-40fa-adc1-3d415aac9201",
        "colab": {
          "base_uri": "https://localhost:8080/",
          "height": 123
        }
      },
      "source": [
        "print(df_test.target.value_counts())"
      ],
      "execution_count": null,
      "outputs": [
        {
          "output_type": "stream",
          "text": [
            "2    1767\n",
            "1     519\n",
            "4     194\n",
            "3      96\n",
            "5      24\n",
            "Name: target, dtype: int64\n"
          ],
          "name": "stdout"
        }
      ]
    },
    {
      "cell_type": "code",
      "metadata": {
        "id": "ZGSCC5vFPyFn"
      },
      "source": [
        "def transpose_func(X,y):\n",
        "  X=tf.transpose(X)\n",
        "  y=tf.transpose(y)\n",
        "  return X,y\n",
        "\n",
        "\n",
        "def create_dataset(df):\n",
        "  df.drop(['target'],axis=1,inplace=True)\n",
        "  dataset=[[list(row[1])] for row in df.iterrows()]\n",
        "  dataset = tf.data.Dataset.from_tensor_slices((dataset,dataset))\n",
        "  dataset =dataset.map(transpose_func)\n",
        "  dataset=dataset.batch(8, drop_remainder=True)\n",
        "  return dataset"
      ],
      "execution_count": null,
      "outputs": []
    },
    {
      "cell_type": "code",
      "metadata": {
        "id": "v41Qxol2P4Cl"
      },
      "source": [
        "train_dataset = create_dataset(df_normal.copy())\n",
        "test_dataset = create_dataset(df_test.copy())"
      ],
      "execution_count": null,
      "outputs": []
    },
    {
      "cell_type": "code",
      "metadata": {
        "id": "vwebH1ox8BiU",
        "colab": {
          "base_uri": "https://localhost:8080/",
          "height": 34
        },
        "outputId": "d51e1003-cad1-435b-a55b-6591eb6aa30b"
      },
      "source": [
        "df_test.shape"
      ],
      "execution_count": null,
      "outputs": [
        {
          "output_type": "execute_result",
          "data": {
            "text/plain": [
              "(2600, 141)"
            ]
          },
          "metadata": {
            "tags": []
          },
          "execution_count": 102
        }
      ]
    },
    {
      "cell_type": "markdown",
      "metadata": {
        "id": "S6nuLZHdiY04"
      },
      "source": [
        "# Building model architechture (using LSTM) and training model"
      ]
    },
    {
      "cell_type": "code",
      "metadata": {
        "id": "_Qah0YAbshaJ"
      },
      "source": [
        "model = Sequential()\n",
        "model.add(LSTM(\n",
        "    units=64,\n",
        "    input_shape=(140,1)\n",
        "))\n",
        "model.add(Dropout(rate=0.2))\n",
        "model.add(RepeatVector(n=140))\n",
        "model.add(LSTM(units=64, return_sequences=True))\n",
        "model.add(Dropout(rate=0.2))\n",
        "model.add(TimeDistributed(\n",
        "    Dense(units=1)\n",
        "  )\n",
        ")\n",
        "model.compile(loss='mae', optimizer='adam')"
      ],
      "execution_count": null,
      "outputs": []
    },
    {
      "cell_type": "code",
      "metadata": {
        "id": "oHa4_VZ-rSH7",
        "outputId": "ebee77d2-cab6-4435-db6f-a0a541e83b6c",
        "colab": {
          "base_uri": "https://localhost:8080/",
          "height": 754
        }
      },
      "source": [
        "plot_model(model, 'LSTM_autoencoder.png',show_shapes=True)"
      ],
      "execution_count": null,
      "outputs": [
        {
          "output_type": "execute_result",
          "data": {
            "image/png": "[encoded data removed]",
            "text/plain": [
              "<IPython.core.display.Image object>"
            ]
          },
          "metadata": {
            "tags": []
          },
          "execution_count": 104
        }
      ]
    },
    {
      "cell_type": "code",
      "metadata": {
        "id": "ZJGxfMu0nVot",
        "outputId": "1db024e7-7b8d-4ac2-89da-646905b50c49",
        "colab": {
          "base_uri": "https://localhost:8080/",
          "height": 727
        }
      },
      "source": [
        "History=model.fit(train_dataset, epochs=20)"
      ],
      "execution_count": null,
      "outputs": [
        {
          "output_type": "stream",
          "text": [
            "Epoch 1/20\n",
            "300/300 [==============================] - 3s 10ms/step - loss: 0.5267\n",
            "Epoch 2/20\n",
            "300/300 [==============================] - 3s 10ms/step - loss: 0.4745\n",
            "Epoch 3/20\n",
            "300/300 [==============================] - 3s 10ms/step - loss: 0.4002\n",
            "Epoch 4/20\n",
            "300/300 [==============================] - 3s 10ms/step - loss: 0.3686\n",
            "Epoch 5/20\n",
            "300/300 [==============================] - 3s 10ms/step - loss: 0.3167\n",
            "Epoch 6/20\n",
            "300/300 [==============================] - 3s 10ms/step - loss: 0.2674\n",
            "Epoch 7/20\n",
            "300/300 [==============================] - 3s 10ms/step - loss: 0.2381\n",
            "Epoch 8/20\n",
            "300/300 [==============================] - 3s 10ms/step - loss: 0.2294\n",
            "Epoch 9/20\n",
            "300/300 [==============================] - 3s 10ms/step - loss: 0.2099\n",
            "Epoch 10/20\n",
            "300/300 [==============================] - 3s 10ms/step - loss: 0.2030\n",
            "Epoch 11/20\n",
            "300/300 [==============================] - 3s 10ms/step - loss: 0.1995\n",
            "Epoch 12/20\n",
            "300/300 [==============================] - 3s 10ms/step - loss: 0.1922\n",
            "Epoch 13/20\n",
            "300/300 [==============================] - 3s 10ms/step - loss: 0.1902\n",
            "Epoch 14/20\n",
            "300/300 [==============================] - 3s 10ms/step - loss: 0.1891\n",
            "Epoch 15/20\n",
            "300/300 [==============================] - 3s 10ms/step - loss: 0.1865\n",
            "Epoch 16/20\n",
            "300/300 [==============================] - 3s 10ms/step - loss: 0.2190\n",
            "Epoch 17/20\n",
            "300/300 [==============================] - 3s 10ms/step - loss: 0.1957\n",
            "Epoch 18/20\n",
            "300/300 [==============================] - 3s 10ms/step - loss: 0.2830\n",
            "Epoch 19/20\n",
            "300/300 [==============================] - 3s 10ms/step - loss: 0.5022\n",
            "Epoch 20/20\n",
            "300/300 [==============================] - 3s 10ms/step - loss: 0.1951\n"
          ],
          "name": "stdout"
        }
      ]
    },
    {
      "cell_type": "code",
      "metadata": {
        "id": "wO0FfGexjDs4"
      },
      "source": [
        "history=History.history"
      ],
      "execution_count": null,
      "outputs": []
    },
    {
      "cell_type": "code",
      "metadata": {
        "id": "BwcMscbtMawQ",
        "outputId": "a2a30fef-bbf1-4881-b728-c94f71b4bb48",
        "colab": {
          "base_uri": "https://localhost:8080/",
          "height": 326
        }
      },
      "source": [
        "#plt with training loss\n",
        "fig, ax = plt.subplots(figsize=(8,4),dpi=80)\n",
        "ax.plot(history['loss'],'b',label='Train',linewidth=2)\n",
        "# ax.plot(history['val_loss'],'r',label='Validation',linewidth=2)\n",
        "ax.set_title('Model size',fontsize=16)\n",
        "ax.set_ylabel('Loss(mae)')\n",
        "ax.set_xlabel('Epoch')\n",
        "ax.legend(['Training loss'],loc='upper right')\n",
        "plt.show()"
      ],
      "execution_count": null,
      "outputs": [
        {
          "output_type": "display_data",
          "data": {
            "image/png": "[encoded data removed]",
            "text/plain": [
              "<Figure size 640x320 with 1 Axes>"
            ]
          },
          "metadata": {
            "tags": [],
            "needs_background": "light"
          }
        }
      ]
    },
    {
      "cell_type": "code",
      "metadata": {
        "id": "_90rMzNTxagN"
      },
      "source": [
        "X_train_pred = model.predict(train_dataset)\n",
        "\n",
        "def calculate_reconstruction_loss(dataset_org,dataset_pred):\n",
        "  train_reconstruction_error=[]\n",
        "  for train_org_ele,train_pred_ele in zip(dataset_org.as_numpy_iterator(),dataset_pred):\n",
        "    a=np.asarray(train_org_ele[0].ravel())\n",
        "    b=train_pred_ele.ravel()\n",
        "    train_reconstruction_error.append(np.mean(np.abs(a-b)))\n",
        "\n",
        "  return  train_reconstruction_error\n",
        "reconstruction_error=calculate_reconstruction_loss(train_dataset.unbatch(),X_train_pred)"
      ],
      "execution_count": null,
      "outputs": []
    },
    {
      "cell_type": "code",
      "metadata": {
        "id": "8JzhMu3AfBNJ",
        "colab": {
          "base_uri": "https://localhost:8080/",
          "height": 296
        },
        "outputId": "28dc3319-48b4-414f-8e18-c17d5405cde0"
      },
      "source": [
        "import matplotlib.pyplot as plt\n",
        "import numpy as np\n",
        "%matplotlib inline\n",
        "np.random.seed(42)\n",
        "\n",
        "plt.hist(reconstruction_error, density=True, bins=15)  # `density=False` would make counts\n",
        "plt.ylabel('Probability')\n",
        "plt.xlabel('Data')"
      ],
      "execution_count": null,
      "outputs": [
        {
          "output_type": "execute_result",
          "data": {
            "text/plain": [
              "Text(0.5, 0, 'Data')"
            ]
          },
          "metadata": {
            "tags": []
          },
          "execution_count": 109
        },
        {
          "output_type": "display_data",
          "data": {
            "image/png": "[encoded data removed]",
            "text/plain": [
              "<Figure size 432x288 with 1 Axes>"
            ]
          },
          "metadata": {
            "tags": [],
            "needs_background": "light"
          }
        }
      ]
    },
    {
      "cell_type": "code",
      "metadata": {
        "id": "VL9Rfd2eBiSD"
      },
      "source": [
        "# Setting reconstruction error at 0.3\n",
        "max_reconstruction_error=0.3"
      ],
      "execution_count": null,
      "outputs": []
    },
    {
      "cell_type": "code",
      "metadata": {
        "id": "535AvR1qpMDu",
        "colab": {
          "base_uri": "https://localhost:8080/",
          "height": 34
        },
        "outputId": "615ccbf0-7bda-4dc9-d42e-3f565d8426d2"
      },
      "source": [
        "def threshold_level_cross(error,max_reconstruction_error=0.3):\n",
        "  if(error<max_reconstruction_error):\n",
        "    return 1\n",
        "  else:\n",
        "    return 0\n",
        "# Model accuracy calculation on the trained dataset i.e. only normal ECG pulses\n",
        "X_train_pred = model.predict(train_dataset)\n",
        "reconstruction_error=calculate_reconstruction_loss(train_dataset.unbatch(),X_train_pred)\n",
        "accuracy=sum([threshold_level_cross(e) for e in reconstruction_error])/len(reconstruction_error)\n",
        "print(\"Training accuracy :\",accuracy)"
      ],
      "execution_count": null,
      "outputs": [
        {
          "output_type": "stream",
          "text": [
            "Training accuracy : 0.9604166666666667\n"
          ],
          "name": "stdout"
        }
      ]
    },
    {
      "cell_type": "markdown",
      "metadata": {
        "id": "-ubNKVYTkEVP"
      },
      "source": [
        "# Evaluation on test dataset"
      ]
    },
    {
      "cell_type": "code",
      "metadata": {
        "id": "97lCdb-I_nQ4"
      },
      "source": [
        "# test_pred"
      ],
      "execution_count": null,
      "outputs": []
    },
    {
      "cell_type": "code",
      "metadata": {
        "id": "uXPMn1_a4B_n"
      },
      "source": [
        "df_test[\"target\"]=df_test[\"target\"].astype(int).apply(lambda x: 1 if x < 2 else 0)"
      ],
      "execution_count": null,
      "outputs": []
    },
    {
      "cell_type": "code",
      "metadata": {
        "id": "-0QiOgzH7qOp",
        "colab": {
          "base_uri": "https://localhost:8080/",
          "height": 70
        },
        "outputId": "e85cb4b1-85ac-4237-ee1a-a57b580169d3"
      },
      "source": [
        "df_test[\"target\"].value_counts()"
      ],
      "execution_count": null,
      "outputs": [
        {
          "output_type": "execute_result",
          "data": {
            "text/plain": [
              "0    2081\n",
              "1     519\n",
              "Name: target, dtype: int64"
            ]
          },
          "metadata": {
            "tags": []
          },
          "execution_count": 114
        }
      ]
    },
    {
      "cell_type": "code",
      "metadata": {
        "id": "jQhDsksu46OZ",
        "outputId": "c902f81b-e81a-4383-fc6c-3b08e4ebd4ab",
        "colab": {
          "base_uri": "https://localhost:8080/",
          "height": 34
        }
      },
      "source": [
        "test_pred = model.predict(test_dataset)\n",
        "test_reconstruction_error=calculate_reconstruction_loss(test_dataset.unbatch(),test_pred)\n",
        "print(len(test_reconstruction_error))\n",
        "test_pred= [threshold_level_cross(e) for e in test_reconstruction_error]\n",
        "\n",
        "# accuracy=sum([threshold_level_cross(e) for e in test_reconstruction_error])/len(test_reconstruction_error)\n",
        "# print(\"Training accuracy :\",accuracy)"
      ],
      "execution_count": null,
      "outputs": [
        {
          "output_type": "stream",
          "text": [
            "2600\n"
          ],
          "name": "stdout"
        }
      ]
    },
    {
      "cell_type": "markdown",
      "metadata": {
        "id": "ANffG9VGkLVi"
      },
      "source": [
        "# Results"
      ]
    },
    {
      "cell_type": "code",
      "metadata": {
        "id": "6Uta-M2y8yFB",
        "colab": {
          "base_uri": "https://localhost:8080/",
          "height": 176
        },
        "outputId": "e76b3941-3ac6-4a69-a8ef-9d136306a779"
      },
      "source": [
        "from sklearn.metrics import classification_report\n",
        "print(classification_report(test_pred, df_test[\"target\"]))"
      ],
      "execution_count": null,
      "outputs": [
        {
          "output_type": "stream",
          "text": [
            "              precision    recall  f1-score   support\n",
            "\n",
            "           0       0.99      0.99      0.99      2080\n",
            "           1       0.96      0.96      0.96       520\n",
            "\n",
            "    accuracy                           0.98      2600\n",
            "   macro avg       0.98      0.98      0.98      2600\n",
            "weighted avg       0.98      0.98      0.98      2600\n",
            "\n"
          ],
          "name": "stdout"
        }
      ]
    },
    {
      "cell_type": "markdown",
      "metadata": {
        "id": "3bgyhP44BWDG"
      },
      "source": [
        "# Auto encoder with GRU replacement"
      ]
    },
    {
      "cell_type": "code",
      "metadata": {
        "id": "PtmWQ5hwF_gO"
      },
      "source": [
        "train_dataset = create_dataset(df_normal.copy())\n",
        "test_dataset = create_dataset(df_test.copy())"
      ],
      "execution_count": null,
      "outputs": []
    },
    {
      "cell_type": "code",
      "metadata": {
        "id": "oifqp-DLE0DE"
      },
      "source": [
        "model_gru = Sequential()\n",
        "model_gru.add(GRU(\n",
        "    units=64,\n",
        "    input_shape=(140,1)\n",
        "))\n",
        "model_gru.add(Dropout(rate=0.2))\n",
        "model_gru.add(RepeatVector(n=140))\n",
        "model_gru.add(GRU(units=64, return_sequences=True))\n",
        "model_gru.add(Dropout(rate=0.2))\n",
        "model_gru.add(TimeDistributed(\n",
        "    Dense(units=1)\n",
        "  )\n",
        ")\n",
        "model_gru.compile(loss='mae', optimizer='adam')"
      ],
      "execution_count": null,
      "outputs": []
    },
    {
      "cell_type": "code",
      "metadata": {
        "id": "F-XELl43FJUF",
        "colab": {
          "base_uri": "https://localhost:8080/",
          "height": 754
        },
        "outputId": "eb751637-750c-4f9c-de18-b44d28a5e1d2"
      },
      "source": [
        "plot_model(model_gru, 'GRU_autoencoder.png',show_shapes=True)"
      ],
      "execution_count": null,
      "outputs": [
        {
          "output_type": "execute_result",
          "data": {
            "image/png": "[encoded data removed]",
            "text/plain": [
              "<IPython.core.display.Image object>"
            ]
          },
          "metadata": {
            "tags": []
          },
          "execution_count": 119
        }
      ]
    },
    {
      "cell_type": "code",
      "metadata": {
        "id": "uR_n6M7GFSBG",
        "colab": {
          "base_uri": "https://localhost:8080/",
          "height": 727
        },
        "outputId": "0052287b-c414-4901-aa25-8d9bacbfb62f"
      },
      "source": [
        "History=model_gru.fit(train_dataset, epochs=20)"
      ],
      "execution_count": null,
      "outputs": [
        {
          "output_type": "stream",
          "text": [
            "Epoch 1/20\n",
            "300/300 [==============================] - 3s 10ms/step - loss: 0.5784\n",
            "Epoch 2/20\n",
            "300/300 [==============================] - 3s 10ms/step - loss: 0.4059\n",
            "Epoch 3/20\n",
            "300/300 [==============================] - 3s 10ms/step - loss: 0.3744\n",
            "Epoch 4/20\n",
            "300/300 [==============================] - 3s 9ms/step - loss: 0.3604\n",
            "Epoch 5/20\n",
            "300/300 [==============================] - 3s 10ms/step - loss: 0.3385\n",
            "Epoch 6/20\n",
            "300/300 [==============================] - 3s 9ms/step - loss: 0.3154\n",
            "Epoch 7/20\n",
            "300/300 [==============================] - 3s 9ms/step - loss: 0.3020\n",
            "Epoch 8/20\n",
            "300/300 [==============================] - 3s 9ms/step - loss: 0.2828\n",
            "Epoch 9/20\n",
            "300/300 [==============================] - 3s 10ms/step - loss: 0.2699\n",
            "Epoch 10/20\n",
            "300/300 [==============================] - 3s 10ms/step - loss: 0.2625\n",
            "Epoch 11/20\n",
            "300/300 [==============================] - 3s 10ms/step - loss: 0.2554\n",
            "Epoch 12/20\n",
            "300/300 [==============================] - 3s 10ms/step - loss: 0.2510\n",
            "Epoch 13/20\n",
            "300/300 [==============================] - 3s 10ms/step - loss: 0.2401\n",
            "Epoch 14/20\n",
            "300/300 [==============================] - 3s 10ms/step - loss: 0.2339\n",
            "Epoch 15/20\n",
            "300/300 [==============================] - 3s 10ms/step - loss: 0.2259\n",
            "Epoch 16/20\n",
            "300/300 [==============================] - 3s 10ms/step - loss: 0.2182\n",
            "Epoch 17/20\n",
            "300/300 [==============================] - 3s 10ms/step - loss: 0.2128\n",
            "Epoch 18/20\n",
            "300/300 [==============================] - 3s 10ms/step - loss: 0.2088\n",
            "Epoch 19/20\n",
            "300/300 [==============================] - 3s 10ms/step - loss: 0.2065\n",
            "Epoch 20/20\n",
            "300/300 [==============================] - 3s 10ms/step - loss: 0.2010\n"
          ],
          "name": "stdout"
        }
      ]
    },
    {
      "cell_type": "code",
      "metadata": {
        "id": "W0p1dQe1FuxG",
        "colab": {
          "base_uri": "https://localhost:8080/",
          "height": 326
        },
        "outputId": "a32d55ee-3a67-4283-d85b-73b2513e0875"
      },
      "source": [
        "history=History.history\n",
        "#plt with training loss\n",
        "fig, ax = plt.subplots(figsize=(8,4),dpi=80)\n",
        "ax.plot(history['loss'],'b',label='Train',linewidth=2)\n",
        "# ax.plot(history['val_loss'],'r',label='Validation',linewidth=2)\n",
        "ax.set_title('Model size',fontsize=16)\n",
        "ax.set_ylabel('Loss(mae)')\n",
        "ax.set_xlabel('Epoch')\n",
        "ax.legend(['Training loss'],loc='upper right')\n",
        "plt.show()"
      ],
      "execution_count": null,
      "outputs": [
        {
          "output_type": "display_data",
          "data": {
            "image/png": "[encoded data removed]",
            "text/plain": [
              "<Figure size 640x320 with 1 Axes>"
            ]
          },
          "metadata": {
            "tags": [],
            "needs_background": "light"
          }
        }
      ]
    },
    {
      "cell_type": "code",
      "metadata": {
        "id": "LNCOW_6iG3l6"
      },
      "source": [
        "X_train_pred = model_gru.predict(train_dataset)\n",
        "\n",
        "def calculate_reconstruction_loss(dataset_org,dataset_pred):\n",
        "  train_reconstruction_error=[]\n",
        "  for train_org_ele,train_pred_ele in zip(dataset_org.as_numpy_iterator(),dataset_pred):\n",
        "    a=np.asarray(train_org_ele[0].ravel())\n",
        "    b=train_pred_ele.ravel()\n",
        "    train_reconstruction_error.append(np.mean(np.abs(a-b)))\n",
        "\n",
        "  return  train_reconstruction_error\n",
        "reconstruction_error=calculate_reconstruction_loss(train_dataset.unbatch(),X_train_pred)"
      ],
      "execution_count": null,
      "outputs": []
    },
    {
      "cell_type": "code",
      "metadata": {
        "id": "Hhp8j6g0HhdO",
        "colab": {
          "base_uri": "https://localhost:8080/",
          "height": 298
        },
        "outputId": "00557b9c-c3a7-4c46-da47-1090d58baad8"
      },
      "source": [
        "import matplotlib.pyplot as plt\n",
        "import numpy as np\n",
        "%matplotlib inline\n",
        "np.random.seed(42)\n",
        "\n",
        "plt.hist(reconstruction_error, density=True, bins=15)  # `density=False` would make counts\n",
        "plt.ylabel('Probability')\n",
        "plt.xlabel('Data')"
      ],
      "execution_count": null,
      "outputs": [
        {
          "output_type": "execute_result",
          "data": {
            "text/plain": [
              "Text(0.5, 0, 'Data')"
            ]
          },
          "metadata": {
            "tags": []
          },
          "execution_count": 123
        },
        {
          "output_type": "display_data",
          "data": {
            "image/png": "[encoded data removed]",
            "text/plain": [
              "<Figure size 432x288 with 1 Axes>"
            ]
          },
          "metadata": {
            "tags": [],
            "needs_background": "light"
          }
        }
      ]
    },
    {
      "cell_type": "code",
      "metadata": {
        "id": "IFJVE9aoHh2g"
      },
      "source": [
        "# Setting reconstruction error at 0.35\n",
        "max_reconstruction_error=0.35"
      ],
      "execution_count": null,
      "outputs": []
    },
    {
      "cell_type": "code",
      "metadata": {
        "id": "D33JMVErHrp9",
        "colab": {
          "base_uri": "https://localhost:8080/",
          "height": 34
        },
        "outputId": "951ccf39-c213-4526-d49e-9531a6245b62"
      },
      "source": [
        "def threshold_level_cross(error,max_reconstruction_error=0.3):\n",
        "  if(error<max_reconstruction_error):\n",
        "    return 1\n",
        "  else:\n",
        "    return 0\n",
        "# Model accuracy calculation on the trained dataset i.e. only normal ECG pulses\n",
        "X_train_pred = model_gru.predict(train_dataset)\n",
        "reconstruction_error=calculate_reconstruction_loss(train_dataset.unbatch(),X_train_pred)\n",
        "accuracy=sum([threshold_level_cross(e,max_reconstruction_error) for e in reconstruction_error])/len(reconstruction_error)\n",
        "print(\"Training accuracy :\",accuracy)"
      ],
      "execution_count": null,
      "outputs": [
        {
          "output_type": "stream",
          "text": [
            "Training accuracy : 0.9766666666666667\n"
          ],
          "name": "stdout"
        }
      ]
    },
    {
      "cell_type": "code",
      "metadata": {
        "id": "K3QiTsE0H1A6"
      },
      "source": [
        "df_test[\"target\"]=df_test[\"target\"].astype(int).apply(lambda x: 1 if x < 2 else 0)"
      ],
      "execution_count": null,
      "outputs": []
    },
    {
      "cell_type": "code",
      "metadata": {
        "id": "q2dmgYNoH8q9",
        "colab": {
          "base_uri": "https://localhost:8080/",
          "height": 52
        },
        "outputId": "bf61246d-1505-439f-eaab-0148bffb93a3"
      },
      "source": [
        "df_test[\"target\"].value_counts()\n"
      ],
      "execution_count": null,
      "outputs": [
        {
          "output_type": "execute_result",
          "data": {
            "text/plain": [
              "1    2600\n",
              "Name: target, dtype: int64"
            ]
          },
          "metadata": {
            "tags": []
          },
          "execution_count": 127
        }
      ]
    },
    {
      "cell_type": "code",
      "metadata": {
        "id": "eZVfPDZ3IKWd",
        "colab": {
          "base_uri": "https://localhost:8080/",
          "height": 34
        },
        "outputId": "9323857b-caca-46b6-e0a2-a38400deb43f"
      },
      "source": [
        "test_pred = model_gru.predict(test_dataset)\n",
        "test_reconstruction_error=calculate_reconstruction_loss(test_dataset.unbatch(),test_pred)\n",
        "print(len(test_reconstruction_error))\n",
        "test_pred= [threshold_level_cross(e) for e in test_reconstruction_error]\n",
        "\n",
        "# accuracy=sum([threshold_level_cross(e) for e in test_reconstruction_error])/len(test_reconstruction_error)\n",
        "# print(\"Training accuracy :\",accuracy)"
      ],
      "execution_count": null,
      "outputs": [
        {
          "output_type": "stream",
          "text": [
            "2600\n"
          ],
          "name": "stdout"
        }
      ]
    },
    {
      "cell_type": "code",
      "metadata": {
        "id": "llwGpdgTIPUy",
        "colab": {
          "base_uri": "https://localhost:8080/",
          "height": 232
        },
        "outputId": "086eebdf-d8ea-41c6-e802-c10a2975f600"
      },
      "source": [
        "print(classification_report(test_pred, df_test[\"target\"]))"
      ],
      "execution_count": null,
      "outputs": [
        {
          "output_type": "stream",
          "text": [
            "              precision    recall  f1-score   support\n",
            "\n",
            "           0       0.00      0.00      0.00      2075\n",
            "           1       0.20      1.00      0.34       525\n",
            "\n",
            "    accuracy                           0.20      2600\n",
            "   macro avg       0.10      0.50      0.17      2600\n",
            "weighted avg       0.04      0.20      0.07      2600\n",
            "\n"
          ],
          "name": "stdout"
        },
        {
          "output_type": "stream",
          "text": [
            "/usr/local/lib/python3.6/dist-packages/sklearn/metrics/_classification.py:1272: UndefinedMetricWarning: Precision and F-score are ill-defined and being set to 0.0 in labels with no predicted samples. Use `zero_division` parameter to control this behavior.\n",
            "  _warn_prf(average, modifier, msg_start, len(result))\n"
          ],
          "name": "stderr"
        }
      ]
    },
    {
      "cell_type": "code",
      "metadata": {
        "id": "c_kGY_0OIVFj",
        "colab": {
          "base_uri": "https://localhost:8080/",
          "height": 70
        },
        "outputId": "0ef7076a-4402-41e9-b4c6-2608e9997749"
      },
      "source": [
        "pd.Series(test_pred).value_counts()"
      ],
      "execution_count": null,
      "outputs": [
        {
          "output_type": "execute_result",
          "data": {
            "text/plain": [
              "0    2075\n",
              "1     525\n",
              "dtype: int64"
            ]
          },
          "metadata": {
            "tags": []
          },
          "execution_count": 130
        }
      ]
    },
    {
      "cell_type": "code",
      "metadata": {
        "id": "TsEeqnhErwXA"
      },
      "source": [],
      "execution_count": null,
      "outputs": []
    }
  ]
}